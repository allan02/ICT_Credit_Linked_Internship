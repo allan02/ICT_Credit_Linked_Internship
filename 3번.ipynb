{
 "cells": [
  {
   "cell_type": "code",
   "execution_count": 1,
   "metadata": {},
   "outputs": [
    {
     "ename": "SyntaxError",
     "evalue": "unexpected EOF while parsing (<ipython-input-1-31eb52f05773>, line 48)",
     "output_type": "error",
     "traceback": [
      "\u001b[1;36m  File \u001b[1;32m\"<ipython-input-1-31eb52f05773>\"\u001b[1;36m, line \u001b[1;32m48\u001b[0m\n\u001b[1;33m    if __name__ == '__main__':\u001b[0m\n\u001b[1;37m                              ^\u001b[0m\n\u001b[1;31mSyntaxError\u001b[0m\u001b[1;31m:\u001b[0m unexpected EOF while parsing\n"
     ]
    }
   ],
   "source": [
    "#!/bin/python3\n",
    "\n",
    "import math\n",
    "import os\n",
    "import random\n",
    "import re\n",
    "import sys\n",
    "\n",
    "\n",
    "#\n",
    "# Complete the 'reachTheEnd' function below.\n",
    "#\n",
    "# The function is expected to return a STRING.\n",
    "# The function accepts following parameters:\n",
    "#  1. STRING_ARRAY grid\n",
    "#  2. INTEGER maxTime\n",
    "#\n",
    "\n",
    "from collections import deque\n",
    "dx = [0, 0, 1, -1]\n",
    "dy = [1, -1, 0, 0]\n",
    "\n",
    "def reachTheEnd(grid, maxTime):\n",
    "    # Write your code here\n",
    "    for i in range(len(grid)):\n",
    "        grid[i] = list(grid[i])\n",
    "    grid[0][0] = 0\n",
    "    q = deque()\n",
    "    q.append((0, 0))\n",
    "    while q:\n",
    "        x, y = q.popleft()\n",
    "        for i in range(4):\n",
    "            nx = x + dx[i]\n",
    "            ny = y + dy[i]\n",
    "            if nx >= 0 and nx < len(grid) and ny >= 0 and ny < len(grid[0]):\n",
    "                if grid[nx][ny] == '.':\n",
    "                    q.append((nx, ny))\n",
    "                    grid[nx][ny] = grid[x][y] + 1\n",
    "                    \n",
    "    if type(grid[len(grid) - 1][len(grid[0]) - 1]) == int:\n",
    "        if grid[len(grid) - 1][len(grid[0]) - 1] <= maxTime:\n",
    "            return \"Yes\"\n",
    "        else:\n",
    "            return \"No\"\n",
    "    \n",
    "    return \"No\"\n",
    "\n",
    "if __name__ == '__main__':"
   ]
  }
 ],
 "metadata": {
  "kernelspec": {
   "display_name": "Python 3",
   "language": "python",
   "name": "python3"
  },
  "language_info": {
   "codemirror_mode": {
    "name": "ipython",
    "version": 3
   },
   "file_extension": ".py",
   "mimetype": "text/x-python",
   "name": "python",
   "nbconvert_exporter": "python",
   "pygments_lexer": "ipython3",
   "version": "3.8.5"
  }
 },
 "nbformat": 4,
 "nbformat_minor": 4
}
