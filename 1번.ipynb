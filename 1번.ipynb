{
 "cells": [
  {
   "cell_type": "code",
   "execution_count": null,
   "metadata": {},
   "outputs": [],
   "source": [
    "#!/bin/python3\n",
    "\n",
    "import math\n",
    "import os\n",
    "import random\n",
    "import re\n",
    "import sys\n",
    "\n",
    "\n",
    "\n",
    "# Complete the maxTickets function below.\n",
    "def maxTickets(tickets):\n",
    "    tickets.sort()\n",
    "    array = []\n",
    "    temp = []\n",
    "    print(tickets)\n",
    "    for i in tickets:\n",
    "        if not temp:\n",
    "            temp.append(i)\n",
    "            print(temp)\n",
    "        elif temp[-1] == i or temp[-1] + 1 == i:\n",
    "            temp.append(i)\n",
    "        else:\n",
    "            array.append(temp)\n",
    "            temp = []\n",
    "            temp.append(i)\n",
    "    if temp:\n",
    "        array.append(temp)\n",
    "        \n",
    "    answer = 0\n",
    "    \n",
    "    for i in array:\n",
    "        answer = max(answer, len(i))\n",
    "    return answer\n",
    "            \n",
    "\n",
    "\n",
    "if __name__ == '__main__':\n",
    "    fptr = open(os.environ['OUTPUT_PATH'], 'w')\n",
    "\n",
    "    tickets_count = int(input().strip())\n",
    "\n",
    "    tickets = []\n",
    "\n",
    "    for _ in range(tickets_count):\n",
    "        tickets_item = int(input().strip())\n",
    "        tickets.append(tickets_item)\n",
    "\n",
    "    res = maxTickets(tickets)\n",
    "\n",
    "    fptr.write(str(res) + '\\n')\n",
    "\n",
    "    fptr.close()\n"
   ]
  }
 ],
 "metadata": {
  "kernelspec": {
   "display_name": "Python 3",
   "language": "python",
   "name": "python3"
  },
  "language_info": {
   "codemirror_mode": {
    "name": "ipython",
    "version": 3
   },
   "file_extension": ".py",
   "mimetype": "text/x-python",
   "name": "python",
   "nbconvert_exporter": "python",
   "pygments_lexer": "ipython3",
   "version": "3.8.5"
  }
 },
 "nbformat": 4,
 "nbformat_minor": 4
}
