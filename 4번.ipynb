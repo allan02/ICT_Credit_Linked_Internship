{
 "cells": [
  {
   "cell_type": "code",
   "execution_count": 1,
   "metadata": {},
   "outputs": [
    {
     "ename": "SyntaxError",
     "evalue": "unexpected EOF while parsing (<ipython-input-1-c3b79f9baed8>, line 51)",
     "output_type": "error",
     "traceback": [
      "\u001b[1;36m  File \u001b[1;32m\"<ipython-input-1-c3b79f9baed8>\"\u001b[1;36m, line \u001b[1;32m51\u001b[0m\n\u001b[1;33m    if __name__ == '__main__':\u001b[0m\n\u001b[1;37m                              ^\u001b[0m\n\u001b[1;31mSyntaxError\u001b[0m\u001b[1;31m:\u001b[0m unexpected EOF while parsing\n"
     ]
    }
   ],
   "source": [
    "#!/bin/python3\n",
    "\n",
    "import math\n",
    "import os\n",
    "import random\n",
    "import re\n",
    "import sys\n",
    "\n",
    "\n",
    "\n",
    "#\n",
    "# Complete the 'maxEvents' function below.\n",
    "#\n",
    "# The function is expected to return an INTEGER.\n",
    "# The function accepts following parameters:\n",
    "#  1. INTEGER_ARRAY arrival\n",
    "#  2. INTEGER_ARRAY duration\n",
    "#\n",
    "\n",
    "def maxEvents(arrival, duration):\n",
    "    # Write your code here\n",
    "    temp = []\n",
    "    for x, y in zip (arrival, duration):\n",
    "        print(x, y)\n",
    "        temp.append((x, y))\n",
    "    temp.sort()\n",
    "    temp1 = []\n",
    "    temp2 = []\n",
    "    \n",
    "    for x, y in temp:\n",
    "        temp1.append(x)\n",
    "        temp2.append(y)\n",
    "        \n",
    "    s = [0]\n",
    "    \n",
    "    for i in range(len(temp1) - 1):\n",
    "        if temp1[s[-1]] + temp2[s[-1]] <= temp1[i + 1]:\n",
    "            s.append(i + 1)\n",
    "        elif temp1[s[-1]] + temp2[s[-1]] >= temp1[i + 1] + temp2[i + 1]:\n",
    "            s.pop()\n",
    "            s.append(i + 1)\n",
    "    \n",
    "    return len(s)\n",
    "\n",
    "            \n",
    "        \n",
    "        \n",
    "\n",
    "    \n",
    "\n",
    "if __name__ == '__main__':"
   ]
  }
 ],
 "metadata": {
  "kernelspec": {
   "display_name": "Python 3",
   "language": "python",
   "name": "python3"
  },
  "language_info": {
   "codemirror_mode": {
    "name": "ipython",
    "version": 3
   },
   "file_extension": ".py",
   "mimetype": "text/x-python",
   "name": "python",
   "nbconvert_exporter": "python",
   "pygments_lexer": "ipython3",
   "version": "3.8.5"
  }
 },
 "nbformat": 4,
 "nbformat_minor": 4
}
